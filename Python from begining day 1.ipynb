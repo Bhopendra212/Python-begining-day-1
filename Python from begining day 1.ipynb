{
 "cells": [
  {
   "cell_type": "code",
   "execution_count": null,
   "id": "8f23c523",
   "metadata": {},
   "outputs": [],
   "source": [
    "#1 First program"
   ]
  },
  {
   "cell_type": "code",
   "execution_count": 1,
   "id": "e6248543",
   "metadata": {},
   "outputs": [
    {
     "name": "stdout",
     "output_type": "stream",
     "text": [
      "hello world\n"
     ]
    }
   ],
   "source": [
    "print(\"hello world\")"
   ]
  },
  {
   "cell_type": "code",
   "execution_count": null,
   "id": "8a6321a8",
   "metadata": {},
   "outputs": [],
   "source": [
    "# print is a function, it performs the operations for us"
   ]
  },
  {
   "cell_type": "code",
   "execution_count": 2,
   "id": "f7676a85",
   "metadata": {},
   "outputs": [
    {
     "name": "stdout",
     "output_type": "stream",
     "text": [
      "hello coder!\n"
     ]
    }
   ],
   "source": [
    "print(\"hello coder!\")"
   ]
  },
  {
   "cell_type": "code",
   "execution_count": null,
   "id": "7e9ad4ab",
   "metadata": {},
   "outputs": [],
   "source": [
    "#Variables"
   ]
  },
  {
   "cell_type": "code",
   "execution_count": 4,
   "id": "9d99272e",
   "metadata": {},
   "outputs": [
    {
     "name": "stdout",
     "output_type": "stream",
     "text": [
      "Bhopendra\n",
      "22\n"
     ]
    }
   ],
   "source": [
    "name=\"Bhopendra\"\n",
    "age= 22\n",
    "print(name)\n",
    "print(age)"
   ]
  },
  {
   "cell_type": "code",
   "execution_count": null,
   "id": "6aea575c",
   "metadata": {},
   "outputs": [],
   "source": [
    "#How to take input from user"
   ]
  },
  {
   "cell_type": "code",
   "execution_count": 8,
   "id": "3b3becb2",
   "metadata": {},
   "outputs": [
    {
     "name": "stdout",
     "output_type": "stream",
     "text": [
      "What is your name?Bhopendra\n",
      "Bhopendra\n",
      "helloBhopendra\n"
     ]
    }
   ],
   "source": [
    "name=input(\"What is your name?\")\n",
    "print(name)\n",
    "print(\"hello\" + name)"
   ]
  },
  {
   "cell_type": "code",
   "execution_count": null,
   "id": "58820664",
   "metadata": {},
   "outputs": [],
   "source": [
    "#this is called Concatenation"
   ]
  },
  {
   "cell_type": "code",
   "execution_count": null,
   "id": "e35c2932",
   "metadata": {},
   "outputs": [],
   "source": [
    "Type conversion"
   ]
  },
  {
   "cell_type": "code",
   "execution_count": 10,
   "id": "ad54dab1",
   "metadata": {},
   "outputs": [
    {
     "name": "stdout",
     "output_type": "stream",
     "text": [
      "input your old_age:30\n",
      "32\n"
     ]
    }
   ],
   "source": [
    "old_age=input(\"input your old_age:\")\n",
    "new_age=int(old_age) + 2\n",
    "print(new_age)"
   ]
  },
  {
   "cell_type": "code",
   "execution_count": 11,
   "id": "0a72ed66",
   "metadata": {},
   "outputs": [
    {
     "name": "stdout",
     "output_type": "stream",
     "text": [
      "18.0\n"
     ]
    }
   ],
   "source": [
    "number=18\n",
    "print(float(18))"
   ]
  },
  {
   "cell_type": "code",
   "execution_count": null,
   "id": "baf80c9c",
   "metadata": {},
   "outputs": [],
   "source": [
    "#float type conversion"
   ]
  },
  {
   "cell_type": "code",
   "execution_count": null,
   "id": "66233f94",
   "metadata": {},
   "outputs": [],
   "source": [
    "Print sum of 2 numbers"
   ]
  },
  {
   "cell_type": "code",
   "execution_count": 12,
   "id": "baf326f3",
   "metadata": {},
   "outputs": [
    {
     "name": "stdout",
     "output_type": "stream",
     "text": [
      "enter first number:2\n",
      "enter second number3\n",
      "5\n"
     ]
    }
   ],
   "source": [
    "first=input(\"enter first number:\")\n",
    "second=input(\"enter second number\")\n",
    "sum= int(first) + int(second)\n",
    "print(sum)"
   ]
  },
  {
   "cell_type": "code",
   "execution_count": null,
   "id": "b923893d",
   "metadata": {},
   "outputs": [],
   "source": [
    "STRINGS"
   ]
  },
  {
   "cell_type": "code",
   "execution_count": 13,
   "id": "bd6a6124",
   "metadata": {},
   "outputs": [
    {
     "name": "stdout",
     "output_type": "stream",
     "text": [
      "BHOPENDRA KUMAR\n"
     ]
    }
   ],
   "source": [
    "name=\"Bhopendra Kumar\"\n",
    "print(name.upper())"
   ]
  },
  {
   "cell_type": "code",
   "execution_count": 14,
   "id": "2fe34077",
   "metadata": {},
   "outputs": [
    {
     "name": "stdout",
     "output_type": "stream",
     "text": [
      "bhopendra kumar\n"
     ]
    }
   ],
   "source": [
    "print(name.lower())"
   ]
  },
  {
   "cell_type": "code",
   "execution_count": 17,
   "id": "e5dd5ecf",
   "metadata": {},
   "outputs": [
    {
     "name": "stdout",
     "output_type": "stream",
     "text": [
      "10\n"
     ]
    }
   ],
   "source": [
    "name=\"Bhopendra Kumar\"\n",
    "print(name.find('K'))"
   ]
  },
  {
   "cell_type": "code",
   "execution_count": null,
   "id": "b7f679cc",
   "metadata": {},
   "outputs": [],
   "source": [
    "#index is the position of the particular alphabet"
   ]
  },
  {
   "cell_type": "code",
   "execution_count": 18,
   "id": "4da4b208",
   "metadata": {},
   "outputs": [
    {
     "name": "stdout",
     "output_type": "stream",
     "text": [
      "Rishi Kumar\n"
     ]
    }
   ],
   "source": [
    "print(name.replace(\"Bhopendra\", \"Rishi\"))"
   ]
  },
  {
   "cell_type": "code",
   "execution_count": null,
   "id": "15d04317",
   "metadata": {},
   "outputs": [],
   "source": [
    "#keywords are the part of the dictionary of the programming language\n",
    "#Keywords cannot be used as a variable name"
   ]
  },
  {
   "cell_type": "code",
   "execution_count": 19,
   "id": "83a97d8e",
   "metadata": {},
   "outputs": [
    {
     "name": "stdout",
     "output_type": "stream",
     "text": [
      "True\n"
     ]
    }
   ],
   "source": [
    "name=\"Bhopendra Kumar\"\n",
    "print('B'in name)"
   ]
  },
  {
   "cell_type": "code",
   "execution_count": 20,
   "id": "89e7ccfa",
   "metadata": {},
   "outputs": [
    {
     "name": "stdout",
     "output_type": "stream",
     "text": [
      "False\n"
     ]
    }
   ],
   "source": [
    "print('y'in name)"
   ]
  },
  {
   "cell_type": "code",
   "execution_count": 21,
   "id": "2c8173ca",
   "metadata": {},
   "outputs": [
    {
     "name": "stdout",
     "output_type": "stream",
     "text": [
      "False\n"
     ]
    }
   ],
   "source": [
    "print(\"Ironman\"in name)"
   ]
  },
  {
   "cell_type": "code",
   "execution_count": null,
   "id": "fa3e0b08",
   "metadata": {},
   "outputs": [],
   "source": [
    "ARTHEMATIC OPERATORS"
   ]
  },
  {
   "cell_type": "code",
   "execution_count": 22,
   "id": "18d0b8a8",
   "metadata": {},
   "outputs": [
    {
     "name": "stdout",
     "output_type": "stream",
     "text": [
      "7\n"
     ]
    }
   ],
   "source": [
    "print(5+2)"
   ]
  },
  {
   "cell_type": "code",
   "execution_count": 23,
   "id": "7717daab",
   "metadata": {},
   "outputs": [
    {
     "name": "stdout",
     "output_type": "stream",
     "text": [
      "3\n"
     ]
    }
   ],
   "source": [
    "print(5-2)"
   ]
  },
  {
   "cell_type": "code",
   "execution_count": 24,
   "id": "d58065f8",
   "metadata": {},
   "outputs": [
    {
     "name": "stdout",
     "output_type": "stream",
     "text": [
      "10\n"
     ]
    }
   ],
   "source": [
    "print(5*2)"
   ]
  },
  {
   "cell_type": "code",
   "execution_count": 25,
   "id": "7b7b0c44",
   "metadata": {},
   "outputs": [
    {
     "name": "stdout",
     "output_type": "stream",
     "text": [
      "2.5\n"
     ]
    }
   ],
   "source": [
    "print(5/2)"
   ]
  },
  {
   "cell_type": "code",
   "execution_count": 26,
   "id": "8c4b43b0",
   "metadata": {},
   "outputs": [
    {
     "name": "stdout",
     "output_type": "stream",
     "text": [
      "2\n"
     ]
    }
   ],
   "source": [
    "print(5//2)  #// means the system will not take numbers after decimal"
   ]
  },
  {
   "cell_type": "code",
   "execution_count": 27,
   "id": "7fab7682",
   "metadata": {},
   "outputs": [
    {
     "name": "stdout",
     "output_type": "stream",
     "text": [
      "1\n"
     ]
    }
   ],
   "source": [
    "print(5%2)  #Modulo operator"
   ]
  },
  {
   "cell_type": "code",
   "execution_count": 28,
   "id": "84cd335e",
   "metadata": {},
   "outputs": [
    {
     "name": "stdout",
     "output_type": "stream",
     "text": [
      "25\n"
     ]
    }
   ],
   "source": [
    "print(5**2)   #power operator"
   ]
  },
  {
   "cell_type": "code",
   "execution_count": null,
   "id": "adb68490",
   "metadata": {},
   "outputs": [],
   "source": [
    "# SHORTCUTS"
   ]
  },
  {
   "cell_type": "code",
   "execution_count": null,
   "id": "fffae0f5",
   "metadata": {},
   "outputs": [],
   "source": [
    "i=5\n",
    "i=i+2\n",
    "i+=2\n",
    "i-=2\n",
    "i*=2"
   ]
  },
  {
   "cell_type": "code",
   "execution_count": null,
   "id": "26dacf94",
   "metadata": {},
   "outputs": [],
   "source": [
    "OPERATOR PRECEDENCE"
   ]
  },
  {
   "cell_type": "code",
   "execution_count": 30,
   "id": "2be474ab",
   "metadata": {},
   "outputs": [
    {
     "name": "stdout",
     "output_type": "stream",
     "text": [
      "17\n"
     ]
    }
   ],
   "source": [
    "result=2+3*5\n",
    "print(result)"
   ]
  },
  {
   "cell_type": "code",
   "execution_count": 31,
   "id": "976fe0dc",
   "metadata": {},
   "outputs": [
    {
     "name": "stdout",
     "output_type": "stream",
     "text": [
      "25\n"
     ]
    }
   ],
   "source": [
    "result=(2+3)*5\n",
    "print(result)"
   ]
  },
  {
   "cell_type": "code",
   "execution_count": 32,
   "id": "04aff957",
   "metadata": {},
   "outputs": [
    {
     "name": "stdout",
     "output_type": "stream",
     "text": [
      "2.6\n"
     ]
    }
   ],
   "source": [
    "result=2+3/5\n",
    "print(result)"
   ]
  },
  {
   "cell_type": "code",
   "execution_count": 33,
   "id": "8cadf7a2",
   "metadata": {},
   "outputs": [
    {
     "name": "stdout",
     "output_type": "stream",
     "text": [
      "2\n"
     ]
    }
   ],
   "source": [
    "result=2+3//5\n",
    "print(result)"
   ]
  },
  {
   "cell_type": "code",
   "execution_count": null,
   "id": "a355c4ef",
   "metadata": {},
   "outputs": [],
   "source": [
    "#comments- it is port of program which does not perform any operations and calculations\n",
    "# comments are written in comman english, it will not be part of code.\n",
    "# its use is to understand by others in the organisations."
   ]
  },
  {
   "cell_type": "code",
   "execution_count": null,
   "id": "567858a4",
   "metadata": {},
   "outputs": [],
   "source": [
    "COMPARISON OPERATORS"
   ]
  },
  {
   "cell_type": "code",
   "execution_count": 34,
   "id": "297d79e0",
   "metadata": {},
   "outputs": [
    {
     "name": "stdout",
     "output_type": "stream",
     "text": [
      "True\n"
     ]
    }
   ],
   "source": [
    "print(3>2)"
   ]
  },
  {
   "cell_type": "code",
   "execution_count": 35,
   "id": "a7c1a97b",
   "metadata": {},
   "outputs": [
    {
     "name": "stdout",
     "output_type": "stream",
     "text": [
      "False\n"
     ]
    }
   ],
   "source": [
    "print(3<2)"
   ]
  },
  {
   "cell_type": "code",
   "execution_count": 36,
   "id": "2f68cbc2",
   "metadata": {},
   "outputs": [
    {
     "name": "stdout",
     "output_type": "stream",
     "text": [
      "False\n"
     ]
    }
   ],
   "source": [
    "print(3<=2)"
   ]
  },
  {
   "cell_type": "code",
   "execution_count": 37,
   "id": "2182e137",
   "metadata": {},
   "outputs": [
    {
     "name": "stdout",
     "output_type": "stream",
     "text": [
      "True\n"
     ]
    }
   ],
   "source": [
    "print(3>=2)"
   ]
  },
  {
   "cell_type": "code",
   "execution_count": 38,
   "id": "73c1736f",
   "metadata": {},
   "outputs": [
    {
     "name": "stdout",
     "output_type": "stream",
     "text": [
      "False\n"
     ]
    }
   ],
   "source": [
    "print(3==2)"
   ]
  },
  {
   "cell_type": "code",
   "execution_count": 39,
   "id": "a9c80523",
   "metadata": {},
   "outputs": [
    {
     "name": "stdout",
     "output_type": "stream",
     "text": [
      "True\n"
     ]
    }
   ],
   "source": [
    "print(3!=2) #not equal to operator"
   ]
  },
  {
   "cell_type": "code",
   "execution_count": null,
   "id": "043ff026",
   "metadata": {},
   "outputs": [],
   "source": [
    "LOGICAL OPERATORS"
   ]
  },
  {
   "cell_type": "code",
   "execution_count": null,
   "id": "1f52c2cc",
   "metadata": {},
   "outputs": [],
   "source": [
    "#are of 3 types"
   ]
  },
  {
   "cell_type": "code",
   "execution_count": 40,
   "id": "46297971",
   "metadata": {},
   "outputs": [
    {
     "name": "stdout",
     "output_type": "stream",
     "text": [
      "True\n"
     ]
    }
   ],
   "source": [
    "print(2>3 or 2>1) # first operator- if one statement is true the o/p will be TRUE"
   ]
  },
  {
   "cell_type": "code",
   "execution_count": 42,
   "id": "37b74da7",
   "metadata": {},
   "outputs": [
    {
     "name": "stdout",
     "output_type": "stream",
     "text": [
      "False\n"
     ]
    }
   ],
   "source": [
    "print(2>3 and 2>1) #second operator- both the statement should be true"
   ]
  },
  {
   "cell_type": "code",
   "execution_count": 43,
   "id": "b7979945",
   "metadata": {},
   "outputs": [
    {
     "name": "stdout",
     "output_type": "stream",
     "text": [
      "True\n"
     ]
    }
   ],
   "source": [
    "print(not 2>3) # third operator"
   ]
  },
  {
   "cell_type": "code",
   "execution_count": null,
   "id": "fa42c639",
   "metadata": {},
   "outputs": [],
   "source": [
    "If-Else Statements"
   ]
  },
  {
   "cell_type": "code",
   "execution_count": 44,
   "id": "c048d4af",
   "metadata": {},
   "outputs": [
    {
     "name": "stdout",
     "output_type": "stream",
     "text": [
      "you are an adult\n",
      "you can vote\n",
      "thank you\n"
     ]
    }
   ],
   "source": [
    "age=19\n",
    "\n",
    "if age>=18:\n",
    "    print(\"you are an adult\")\n",
    "    print(\"you can vote\")\n",
    "    \n",
    "print(\"thank you\")"
   ]
  },
  {
   "cell_type": "code",
   "execution_count": 45,
   "id": "edc2a227",
   "metadata": {},
   "outputs": [
    {
     "name": "stdout",
     "output_type": "stream",
     "text": [
      "thank you\n"
     ]
    }
   ],
   "source": [
    "age=17\n",
    "\n",
    "if age>=18:\n",
    "    print(\"you are an adult\")\n",
    "    print(\"you can vote\")\n",
    "    \n",
    "print(\"thank you\")"
   ]
  },
  {
   "cell_type": "code",
   "execution_count": 47,
   "id": "1df852e8",
   "metadata": {},
   "outputs": [
    {
     "name": "stdout",
     "output_type": "stream",
     "text": [
      "you are child\n",
      "thank you\n"
     ]
    }
   ],
   "source": [
    "age=2\n",
    "\n",
    "if age>=18:\n",
    "    print(\"you are an adult\")\n",
    "    print(\"you can vote\")\n",
    "elif age<18 and age>3:                    #if first condition not true than check second condition\n",
    "    print(\"you are in school\")\n",
    "else:                                     # if all the above conditions are false and this will execute\n",
    "    print(\"you are child\")\n",
    "    \n",
    "    \n",
    "print(\"thank you\")"
   ]
  },
  {
   "cell_type": "code",
   "execution_count": null,
   "id": "b3c05458",
   "metadata": {},
   "outputs": [],
   "source": []
  },
  {
   "cell_type": "code",
   "execution_count": null,
   "id": "cdd6828a",
   "metadata": {},
   "outputs": [],
   "source": []
  },
  {
   "cell_type": "code",
   "execution_count": null,
   "id": "3d053200",
   "metadata": {},
   "outputs": [],
   "source": []
  },
  {
   "cell_type": "code",
   "execution_count": null,
   "id": "16c93748",
   "metadata": {},
   "outputs": [],
   "source": []
  }
 ],
 "metadata": {
  "kernelspec": {
   "display_name": "Python 3 (ipykernel)",
   "language": "python",
   "name": "python3"
  },
  "language_info": {
   "codemirror_mode": {
    "name": "ipython",
    "version": 3
   },
   "file_extension": ".py",
   "mimetype": "text/x-python",
   "name": "python",
   "nbconvert_exporter": "python",
   "pygments_lexer": "ipython3",
   "version": "3.11.4"
  }
 },
 "nbformat": 4,
 "nbformat_minor": 5
}
